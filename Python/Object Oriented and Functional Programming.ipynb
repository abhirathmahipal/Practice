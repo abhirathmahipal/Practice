{
 "cells": [
  {
   "cell_type": "markdown",
   "metadata": {
    "collapsed": true
   },
   "source": [
    "# Object Oriented Programming\n",
    "http://anandology.com/python-practice-book/object_oriented_programming.html"
   ]
  },
  {
   "cell_type": "code",
   "execution_count": 3,
   "metadata": {
    "collapsed": false
   },
   "outputs": [
    {
     "name": "stdout",
     "output_type": "stream",
     "text": [
      "9901\n"
     ]
    }
   ],
   "source": [
    "# Without OOP\n",
    "balance = 0\n",
    "\n",
    "def deposit(amount):\n",
    "    global balance\n",
    "    balance += amount\n",
    "    return balance\n",
    "\n",
    "def withdraw(amount):\n",
    "    global balance\n",
    "    balance -= amount\n",
    "    return balance\n",
    "\n",
    "\n",
    "deposit(10000)\n",
    "withdraw(100)\n",
    "deposit(1)\n",
    "print balance"
   ]
  },
  {
   "cell_type": "code",
   "execution_count": 5,
   "metadata": {
    "collapsed": false
   },
   "outputs": [
    {
     "name": "stdout",
     "output_type": "stream",
     "text": [
      "50\n",
      "50\n",
      "40\n"
     ]
    }
   ],
   "source": [
    "# Working with multiple accounts without OOPS\n",
    "def make_account():\n",
    "    return {'balance':0}\n",
    "\n",
    "def deposit(account, amount):\n",
    "    account['balance'] += amount\n",
    "    return account['balance']\n",
    "\n",
    "def withdraw(account, amount):\n",
    "    account['balance'] -= amount\n",
    "    return account['balance']\n",
    "\n",
    "abhirath = make_account()\n",
    "vignesh = make_account()\n",
    "\n",
    "print deposit(abhirath, 50)\n",
    "print deposit(vignesh, 50)\n",
    "print withdraw(abhirath, 10)\n"
   ]
  },
  {
   "cell_type": "code",
   "execution_count": 26,
   "metadata": {
    "collapsed": false
   },
   "outputs": [
    {
     "name": "stdout",
     "output_type": "stream",
     "text": [
      "100\n",
      "90\n",
      "1000\n",
      "800\n",
      "{'balance': 90}\n",
      "<type 'instance'>\n"
     ]
    }
   ],
   "source": [
    "# Working with classes\n",
    "class BankAccount:\n",
    "    \n",
    "    def __init__(self):\n",
    "        self.balance = 0\n",
    "        \n",
    "    def withdraw(self, amount):\n",
    "        self.balance -= amount\n",
    "        return self.balance\n",
    "    \n",
    "    def deposit(self, amount):\n",
    "        self.balance += amount\n",
    "        return self.balance\n",
    "    \n",
    "    \n",
    "sankket = BankAccount()\n",
    "anuj = BankAccount()\n",
    "\n",
    "print sankket.deposit(100)\n",
    "print sankket.withdraw(10)\n",
    "print anuj.deposit(1000)\n",
    "print anuj.withdraw(200)\n",
    "\n",
    "# Prints out the dictionary with values and keys in the class\n",
    "print sankket.__dict__\n",
    "print type(sankket)"
   ]
  },
  {
   "cell_type": "code",
   "execution_count": 33,
   "metadata": {
    "collapsed": true
   },
   "outputs": [],
   "source": [
    "class MinimumBalanceAccount(BankAccount):\n",
    "    \n",
    "    def __init__(self, minimum_balance):\n",
    "        BankAccount.__init__(self)\n",
    "        self.minimum_balance = minimum_balance\n",
    "        \n",
    "        \n",
    "    def withdraw(self, amount):\n",
    "        if self.balance - amount < self.minimum_balance:\n",
    "            return 'Sorry, Minimum balance must be maintained'            \n",
    "        else:\n",
    "            return BankAccount.withdraw(self, amount)"
   ]
  },
  {
   "cell_type": "code",
   "execution_count": 34,
   "metadata": {
    "collapsed": false
   },
   "outputs": [
    {
     "name": "stdout",
     "output_type": "stream",
     "text": [
      "1000\n",
      "500\n",
      "Sorry, Minimum balance must be maintained\n",
      "{'minimum_balance': 100, 'balance': 500}\n"
     ]
    }
   ],
   "source": [
    "harrypotter = MinimumBalanceAccount(100)\n",
    "\n",
    "print harrypotter.deposit(1000)\n",
    "print harrypotter.withdraw(500)\n",
    "print harrypotter.withdraw(500)\n",
    "\n",
    "print harrypotter.__dict__"
   ]
  },
  {
   "cell_type": "code",
   "execution_count": 42,
   "metadata": {
    "collapsed": false
   },
   "outputs": [
    {
     "name": "stdout",
     "output_type": "stream",
     "text": [
      "3\n",
      "3\n"
     ]
    }
   ],
   "source": [
    "# Special Class Methods (Python's approach to operator overloading)\n",
    "\n",
    "a, b = 1, 2\n",
    "print a + b\n",
    "\n",
    "print a.__add__(b)\n",
    "\n",
    "# The add operator can be overloaded to behave differently for different objects"
   ]
  },
  {
   "cell_type": "code",
   "execution_count": null,
   "metadata": {
    "collapsed": true
   },
   "outputs": [],
   "source": []
  },
  {
   "cell_type": "code",
   "execution_count": null,
   "metadata": {
    "collapsed": true
   },
   "outputs": [],
   "source": []
  },
  {
   "cell_type": "markdown",
   "metadata": {},
   "source": [
    "# Functional Programming\n",
    "\n",
    "https://maryrosecook.com/blog/post/a-practical-introduction-to-functional-programming\n",
    "\n"
   ]
  },
  {
   "cell_type": "code",
   "execution_count": 35,
   "metadata": {
    "collapsed": false
   },
   "outputs": [
    {
     "name": "stdout",
     "output_type": "stream",
     "text": [
      "[8, 7, 4]\n"
     ]
    }
   ],
   "source": [
    "# Map\n",
    "name_length = map(len, ['Abhirath', 'Mahipal', 'Abhi'])\n",
    "print name_length"
   ]
  },
  {
   "cell_type": "code",
   "execution_count": 49,
   "metadata": {
    "collapsed": false
   },
   "outputs": [
    {
     "name": "stdout",
     "output_type": "stream",
     "text": [
      "[16, 25, 36] \n",
      "\n",
      "0 0\n",
      "1 1\n",
      "2 4\n",
      "3 9\n"
     ]
    }
   ],
   "source": [
    "squares = map(lambda x: x * x, [4, 5, 6])\n",
    "print squares,\"\\n\"\n",
    "\n",
    "for i, j in [(x,x ** 2) for x in xrange(4)]:\n",
    "    print i,j"
   ]
  },
  {
   "cell_type": "code",
   "execution_count": 45,
   "metadata": {
    "collapsed": true
   },
   "outputs": [],
   "source": [
    "# Decorators"
   ]
  },
  {
   "cell_type": "code",
   "execution_count": 62,
   "metadata": {
    "collapsed": false
   },
   "outputs": [
    {
     "name": "stdout",
     "output_type": "stream",
     "text": [
      "6\n",
      "[3, 4, 5, 6, 7, 8, 9, 10, 11, 12]\n"
     ]
    }
   ],
   "source": [
    "# lambda Functions\n",
    "g = lambda x:x*2\n",
    "print g(3)\n",
    "\n",
    "i = [ (lambda i:i+3)(i) for i in xrange(10) ]\n",
    "print i"
   ]
  },
  {
   "cell_type": "code",
   "execution_count": null,
   "metadata": {
    "collapsed": true
   },
   "outputs": [],
   "source": [
    "# Closures"
   ]
  }
 ],
 "metadata": {
  "kernelspec": {
   "display_name": "Python 2",
   "language": "python",
   "name": "python2"
  },
  "language_info": {
   "codemirror_mode": {
    "name": "ipython",
    "version": 2
   },
   "file_extension": ".py",
   "mimetype": "text/x-python",
   "name": "python",
   "nbconvert_exporter": "python",
   "pygments_lexer": "ipython2",
   "version": "2.7.11"
  }
 },
 "nbformat": 4,
 "nbformat_minor": 0
}
